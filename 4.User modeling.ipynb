{
 "cells": [
  {
   "cell_type": "code",
   "execution_count": 1,
   "metadata": {
    "colab": {},
    "colab_type": "code",
    "id": "mxuvMbY8FqCu"
   },
   "outputs": [],
   "source": [
    "import pandas as pd\n",
    "import numpy as np\n",
    "import matplotlib.pyplot as plt\n",
    "import seaborn as sns\n",
    "import sklearn"
   ]
  },
  {
   "cell_type": "code",
   "execution_count": 2,
   "metadata": {
    "colab": {},
    "colab_type": "code",
    "id": "aYZ1VvJq3fvh"
   },
   "outputs": [],
   "source": [
    "users = pd.read_csv('C:\\\\Users\\\\panag\\\\Desktop\\\\Project Future\\\\Project\\\\data\\\\users_new.csv')"
   ]
  },
  {
   "cell_type": "code",
   "execution_count": 3,
   "metadata": {},
   "outputs": [],
   "source": [
    "trans1 = pd.read_csv('C:\\\\Users\\\\panag\\\\Desktop\\\\Project Future\\\\Project\\\\data\\\\transactions_1.csv')"
   ]
  },
  {
   "cell_type": "code",
   "execution_count": 4,
   "metadata": {},
   "outputs": [],
   "source": [
    "trans2 = pd.read_csv('C:\\\\Users\\\\panag\\\\Desktop\\\\Project Future\\\\Project\\\\data\\\\transactions_2.csv')"
   ]
  },
  {
   "cell_type": "code",
   "execution_count": 5,
   "metadata": {},
   "outputs": [],
   "source": [
    "trans3 = pd.read_csv('C:\\\\Users\\\\panag\\\\Desktop\\\\Project Future\\\\Project\\\\data\\\\transactions_3.csv')"
   ]
  },
  {
   "cell_type": "code",
   "execution_count": 6,
   "metadata": {},
   "outputs": [],
   "source": [
    "transactions = pd.concat([trans1,trans2,trans3])"
   ]
  },
  {
   "cell_type": "markdown",
   "metadata": {
    "colab_type": "text",
    "id": "v-JiF03NBJEE"
   },
   "source": [
    "# 4.User modeling"
   ]
  },
  {
   "cell_type": "markdown",
   "metadata": {
    "colab_type": "text",
    "id": "x33VvHaYBNzM"
   },
   "source": [
    "# 4.1 MCC"
   ]
  },
  {
   "cell_type": "code",
   "execution_count": 7,
   "metadata": {
    "colab": {},
    "colab_type": "code",
    "id": "4SmSqLgjBNPW"
   },
   "outputs": [],
   "source": [
    "def merchant_cat(x):\n",
    "    if x in range(1,1500):\n",
    "        return 'Agricultural Services'\n",
    "    elif x in range(1500,3000):\n",
    "        return 'Contracted Services'\n",
    "    elif x in range(4000,4800):\n",
    "        return 'Transportation Services'\n",
    "    elif x in range(4800,5000):\n",
    "        return 'Utility Services'\n",
    "    elif x in range(5000,5600):\n",
    "        return 'Retail Outlet Services'\n",
    "    elif x in range(5600,5700):\n",
    "        return 'Clothing Stores'\n",
    "    elif x in range(5700,7300):\n",
    "        return 'Miscellaneous Stores'\n",
    "    elif x in range(7300,8000):\n",
    "        return 'Business Services'\n",
    "    elif x in range(8000,9000):\n",
    "        return 'Professional Services and Membership Organizations'\n",
    "    elif x in range(9000,9999):\n",
    "        return 'Government Services'\n",
    "    elif x in range(3000,3300):\n",
    "        return 'Travel and Entertainment'\n",
    "    elif x in range(3300,3500):\n",
    "        return 'Car Rental'\n",
    "    elif x in range(3500,4000):\n",
    "        return 'Lodging'"
   ]
  },
  {
   "cell_type": "code",
   "execution_count": 8,
   "metadata": {
    "colab": {},
    "colab_type": "code",
    "id": "Z_TfpLUNBVBA"
   },
   "outputs": [],
   "source": [
    "transactions['ea_merchant_mcc']=transactions['ea_merchant_mcc'].fillna(0)"
   ]
  },
  {
   "cell_type": "code",
   "execution_count": 9,
   "metadata": {
    "colab": {},
    "colab_type": "code",
    "id": "2utesJ7dBWQp"
   },
   "outputs": [],
   "source": [
    "transactions['ea_merchant_mcc']=transactions['ea_merchant_mcc'].astype(int)"
   ]
  },
  {
   "cell_type": "code",
   "execution_count": 10,
   "metadata": {
    "colab": {},
    "colab_type": "code",
    "id": "3oBpSDYxBXrr"
   },
   "outputs": [],
   "source": [
    "transactions['ea_merchant_mcc']=transactions['ea_merchant_mcc'].apply(merchant_cat)"
   ]
  },
  {
   "cell_type": "code",
   "execution_count": 11,
   "metadata": {
    "colab": {
     "base_uri": "https://localhost:8080/",
     "height": 274
    },
    "colab_type": "code",
    "id": "K_21aP4YBbnG",
    "outputId": "5ee02d0c-d87d-49c5-d71d-9911ba2345ba"
   },
   "outputs": [
    {
     "data": {
      "text/plain": [
       "Miscellaneous Stores                                  593707\n",
       "Retail Outlet Services                                349368\n",
       "Transportation Services                               141824\n",
       "Business Services                                      75722\n",
       "Clothing Stores                                        37822\n",
       "Utility Services                                       20815\n",
       "Professional Services and Membership Organizations     17089\n",
       "Government Services                                     6642\n",
       "Travel and Entertainment                                6329\n",
       "Lodging                                                 3042\n",
       "Agricultural Services                                   2480\n",
       "Contracted Services                                     1170\n",
       "Car Rental                                              1041\n",
       "Name: ea_merchant_mcc, dtype: int64"
      ]
     },
     "execution_count": 11,
     "metadata": {},
     "output_type": "execute_result"
    }
   ],
   "source": [
    "transactions['ea_merchant_mcc'].value_counts()"
   ]
  },
  {
   "cell_type": "code",
   "execution_count": 12,
   "metadata": {
    "colab": {},
    "colab_type": "code",
    "id": "BWqFp7LTBdcj"
   },
   "outputs": [],
   "source": [
    "merch_mcc = pd.crosstab(index=transactions['ea_merchant_mcc'], columns=transactions['user_id']).T"
   ]
  },
  {
   "cell_type": "code",
   "execution_count": 13,
   "metadata": {
    "colab": {},
    "colab_type": "code",
    "id": "lYRYMje5Bkqm"
   },
   "outputs": [],
   "source": [
    "users =pd.merge(users,merch_mcc, how='left',left_on='user_id',right_index=True)"
   ]
  },
  {
   "cell_type": "code",
   "execution_count": 14,
   "metadata": {
    "colab": {
     "base_uri": "https://localhost:8080/",
     "height": 496
    },
    "colab_type": "code",
    "id": "WjVViDyHBuWi",
    "outputId": "1ff03c0b-a6ed-4eff-f7db-5c87d8ce5a4a"
   },
   "outputs": [
    {
     "data": {
      "text/html": [
       "<div>\n",
       "<style scoped>\n",
       "    .dataframe tbody tr th:only-of-type {\n",
       "        vertical-align: middle;\n",
       "    }\n",
       "\n",
       "    .dataframe tbody tr th {\n",
       "        vertical-align: top;\n",
       "    }\n",
       "\n",
       "    .dataframe thead th {\n",
       "        text-align: right;\n",
       "    }\n",
       "</style>\n",
       "<table border=\"1\" class=\"dataframe\">\n",
       "  <thead>\n",
       "    <tr style=\"text-align: right;\">\n",
       "      <th></th>\n",
       "      <th>Unnamed: 0</th>\n",
       "      <th>user_id</th>\n",
       "      <th>birth_year</th>\n",
       "      <th>city</th>\n",
       "      <th>created_date</th>\n",
       "      <th>user_settings_crypto_unlocked</th>\n",
       "      <th>plan</th>\n",
       "      <th>num_contacts</th>\n",
       "      <th>North-East</th>\n",
       "      <th>UK</th>\n",
       "      <th>...</th>\n",
       "      <th>Clothing Stores</th>\n",
       "      <th>Contracted Services</th>\n",
       "      <th>Government Services</th>\n",
       "      <th>Lodging</th>\n",
       "      <th>Miscellaneous Stores</th>\n",
       "      <th>Professional Services and Membership Organizations</th>\n",
       "      <th>Retail Outlet Services</th>\n",
       "      <th>Transportation Services</th>\n",
       "      <th>Travel and Entertainment</th>\n",
       "      <th>Utility Services</th>\n",
       "    </tr>\n",
       "  </thead>\n",
       "  <tbody>\n",
       "    <tr>\n",
       "      <th>0</th>\n",
       "      <td>0</td>\n",
       "      <td>user_0</td>\n",
       "      <td>13</td>\n",
       "      <td>1</td>\n",
       "      <td>1</td>\n",
       "      <td>0</td>\n",
       "      <td>0</td>\n",
       "      <td>3</td>\n",
       "      <td>0</td>\n",
       "      <td>1</td>\n",
       "      <td>...</td>\n",
       "      <td>10.0</td>\n",
       "      <td>0.0</td>\n",
       "      <td>0.0</td>\n",
       "      <td>0.0</td>\n",
       "      <td>34.0</td>\n",
       "      <td>0.0</td>\n",
       "      <td>277.0</td>\n",
       "      <td>20.0</td>\n",
       "      <td>0.0</td>\n",
       "      <td>1.0</td>\n",
       "    </tr>\n",
       "    <tr>\n",
       "      <th>1</th>\n",
       "      <td>1</td>\n",
       "      <td>user_1</td>\n",
       "      <td>12</td>\n",
       "      <td>0</td>\n",
       "      <td>1</td>\n",
       "      <td>1</td>\n",
       "      <td>0</td>\n",
       "      <td>75</td>\n",
       "      <td>1</td>\n",
       "      <td>0</td>\n",
       "      <td>...</td>\n",
       "      <td>3.0</td>\n",
       "      <td>0.0</td>\n",
       "      <td>3.0</td>\n",
       "      <td>0.0</td>\n",
       "      <td>28.0</td>\n",
       "      <td>0.0</td>\n",
       "      <td>38.0</td>\n",
       "      <td>11.0</td>\n",
       "      <td>0.0</td>\n",
       "      <td>0.0</td>\n",
       "    </tr>\n",
       "    <tr>\n",
       "      <th>2</th>\n",
       "      <td>2</td>\n",
       "      <td>user_2</td>\n",
       "      <td>14</td>\n",
       "      <td>0</td>\n",
       "      <td>1</td>\n",
       "      <td>0</td>\n",
       "      <td>0</td>\n",
       "      <td>71</td>\n",
       "      <td>1</td>\n",
       "      <td>0</td>\n",
       "      <td>...</td>\n",
       "      <td>1.0</td>\n",
       "      <td>0.0</td>\n",
       "      <td>1.0</td>\n",
       "      <td>0.0</td>\n",
       "      <td>27.0</td>\n",
       "      <td>0.0</td>\n",
       "      <td>71.0</td>\n",
       "      <td>5.0</td>\n",
       "      <td>0.0</td>\n",
       "      <td>0.0</td>\n",
       "    </tr>\n",
       "    <tr>\n",
       "      <th>3</th>\n",
       "      <td>3</td>\n",
       "      <td>user_3</td>\n",
       "      <td>11</td>\n",
       "      <td>1</td>\n",
       "      <td>1</td>\n",
       "      <td>0</td>\n",
       "      <td>0</td>\n",
       "      <td>219</td>\n",
       "      <td>1</td>\n",
       "      <td>0</td>\n",
       "      <td>...</td>\n",
       "      <td>4.0</td>\n",
       "      <td>0.0</td>\n",
       "      <td>1.0</td>\n",
       "      <td>0.0</td>\n",
       "      <td>85.0</td>\n",
       "      <td>0.0</td>\n",
       "      <td>33.0</td>\n",
       "      <td>3.0</td>\n",
       "      <td>0.0</td>\n",
       "      <td>2.0</td>\n",
       "    </tr>\n",
       "    <tr>\n",
       "      <th>4</th>\n",
       "      <td>4</td>\n",
       "      <td>user_4</td>\n",
       "      <td>13</td>\n",
       "      <td>1</td>\n",
       "      <td>1</td>\n",
       "      <td>0</td>\n",
       "      <td>0</td>\n",
       "      <td>0</td>\n",
       "      <td>0</td>\n",
       "      <td>1</td>\n",
       "      <td>...</td>\n",
       "      <td>2.0</td>\n",
       "      <td>0.0</td>\n",
       "      <td>1.0</td>\n",
       "      <td>0.0</td>\n",
       "      <td>16.0</td>\n",
       "      <td>0.0</td>\n",
       "      <td>5.0</td>\n",
       "      <td>19.0</td>\n",
       "      <td>0.0</td>\n",
       "      <td>0.0</td>\n",
       "    </tr>\n",
       "    <tr>\n",
       "      <th>...</th>\n",
       "      <td>...</td>\n",
       "      <td>...</td>\n",
       "      <td>...</td>\n",
       "      <td>...</td>\n",
       "      <td>...</td>\n",
       "      <td>...</td>\n",
       "      <td>...</td>\n",
       "      <td>...</td>\n",
       "      <td>...</td>\n",
       "      <td>...</td>\n",
       "      <td>...</td>\n",
       "      <td>...</td>\n",
       "      <td>...</td>\n",
       "      <td>...</td>\n",
       "      <td>...</td>\n",
       "      <td>...</td>\n",
       "      <td>...</td>\n",
       "      <td>...</td>\n",
       "      <td>...</td>\n",
       "      <td>...</td>\n",
       "      <td>...</td>\n",
       "    </tr>\n",
       "    <tr>\n",
       "      <th>15539</th>\n",
       "      <td>15539</td>\n",
       "      <td>user_15539</td>\n",
       "      <td>14</td>\n",
       "      <td>0</td>\n",
       "      <td>2</td>\n",
       "      <td>0</td>\n",
       "      <td>0</td>\n",
       "      <td>0</td>\n",
       "      <td>1</td>\n",
       "      <td>0</td>\n",
       "      <td>...</td>\n",
       "      <td>5.0</td>\n",
       "      <td>0.0</td>\n",
       "      <td>0.0</td>\n",
       "      <td>0.0</td>\n",
       "      <td>26.0</td>\n",
       "      <td>0.0</td>\n",
       "      <td>10.0</td>\n",
       "      <td>13.0</td>\n",
       "      <td>0.0</td>\n",
       "      <td>20.0</td>\n",
       "    </tr>\n",
       "    <tr>\n",
       "      <th>15540</th>\n",
       "      <td>15540</td>\n",
       "      <td>user_15540</td>\n",
       "      <td>12</td>\n",
       "      <td>0</td>\n",
       "      <td>2</td>\n",
       "      <td>0</td>\n",
       "      <td>0</td>\n",
       "      <td>0</td>\n",
       "      <td>1</td>\n",
       "      <td>0</td>\n",
       "      <td>...</td>\n",
       "      <td>0.0</td>\n",
       "      <td>0.0</td>\n",
       "      <td>0.0</td>\n",
       "      <td>0.0</td>\n",
       "      <td>0.0</td>\n",
       "      <td>0.0</td>\n",
       "      <td>3.0</td>\n",
       "      <td>6.0</td>\n",
       "      <td>0.0</td>\n",
       "      <td>0.0</td>\n",
       "    </tr>\n",
       "    <tr>\n",
       "      <th>15541</th>\n",
       "      <td>15541</td>\n",
       "      <td>user_15541</td>\n",
       "      <td>10</td>\n",
       "      <td>1</td>\n",
       "      <td>2</td>\n",
       "      <td>0</td>\n",
       "      <td>0</td>\n",
       "      <td>16</td>\n",
       "      <td>0</td>\n",
       "      <td>1</td>\n",
       "      <td>...</td>\n",
       "      <td>10.0</td>\n",
       "      <td>0.0</td>\n",
       "      <td>4.0</td>\n",
       "      <td>0.0</td>\n",
       "      <td>268.0</td>\n",
       "      <td>0.0</td>\n",
       "      <td>113.0</td>\n",
       "      <td>168.0</td>\n",
       "      <td>0.0</td>\n",
       "      <td>0.0</td>\n",
       "    </tr>\n",
       "    <tr>\n",
       "      <th>15542</th>\n",
       "      <td>15542</td>\n",
       "      <td>user_15542</td>\n",
       "      <td>10</td>\n",
       "      <td>1</td>\n",
       "      <td>1</td>\n",
       "      <td>0</td>\n",
       "      <td>1</td>\n",
       "      <td>44</td>\n",
       "      <td>1</td>\n",
       "      <td>0</td>\n",
       "      <td>...</td>\n",
       "      <td>0.0</td>\n",
       "      <td>0.0</td>\n",
       "      <td>0.0</td>\n",
       "      <td>3.0</td>\n",
       "      <td>6.0</td>\n",
       "      <td>0.0</td>\n",
       "      <td>4.0</td>\n",
       "      <td>0.0</td>\n",
       "      <td>0.0</td>\n",
       "      <td>0.0</td>\n",
       "    </tr>\n",
       "    <tr>\n",
       "      <th>15543</th>\n",
       "      <td>15543</td>\n",
       "      <td>user_15543</td>\n",
       "      <td>13</td>\n",
       "      <td>0</td>\n",
       "      <td>2</td>\n",
       "      <td>1</td>\n",
       "      <td>0</td>\n",
       "      <td>8</td>\n",
       "      <td>0</td>\n",
       "      <td>1</td>\n",
       "      <td>...</td>\n",
       "      <td>0.0</td>\n",
       "      <td>0.0</td>\n",
       "      <td>8.0</td>\n",
       "      <td>0.0</td>\n",
       "      <td>74.0</td>\n",
       "      <td>1.0</td>\n",
       "      <td>119.0</td>\n",
       "      <td>1.0</td>\n",
       "      <td>0.0</td>\n",
       "      <td>0.0</td>\n",
       "    </tr>\n",
       "  </tbody>\n",
       "</table>\n",
       "<p>15544 rows × 43 columns</p>\n",
       "</div>"
      ],
      "text/plain": [
       "       Unnamed: 0     user_id  birth_year  city  created_date  \\\n",
       "0               0      user_0          13     1             1   \n",
       "1               1      user_1          12     0             1   \n",
       "2               2      user_2          14     0             1   \n",
       "3               3      user_3          11     1             1   \n",
       "4               4      user_4          13     1             1   \n",
       "...           ...         ...         ...   ...           ...   \n",
       "15539       15539  user_15539          14     0             2   \n",
       "15540       15540  user_15540          12     0             2   \n",
       "15541       15541  user_15541          10     1             2   \n",
       "15542       15542  user_15542          10     1             1   \n",
       "15543       15543  user_15543          13     0             2   \n",
       "\n",
       "       user_settings_crypto_unlocked  plan  num_contacts  North-East  UK  ...  \\\n",
       "0                                  0     0             3           0   1  ...   \n",
       "1                                  1     0            75           1   0  ...   \n",
       "2                                  0     0            71           1   0  ...   \n",
       "3                                  0     0           219           1   0  ...   \n",
       "4                                  0     0             0           0   1  ...   \n",
       "...                              ...   ...           ...         ...  ..  ...   \n",
       "15539                              0     0             0           1   0  ...   \n",
       "15540                              0     0             0           1   0  ...   \n",
       "15541                              0     0            16           0   1  ...   \n",
       "15542                              0     1            44           1   0  ...   \n",
       "15543                              1     0             8           0   1  ...   \n",
       "\n",
       "       Clothing Stores  Contracted Services  Government Services  Lodging  \\\n",
       "0                 10.0                  0.0                  0.0      0.0   \n",
       "1                  3.0                  0.0                  3.0      0.0   \n",
       "2                  1.0                  0.0                  1.0      0.0   \n",
       "3                  4.0                  0.0                  1.0      0.0   \n",
       "4                  2.0                  0.0                  1.0      0.0   \n",
       "...                ...                  ...                  ...      ...   \n",
       "15539              5.0                  0.0                  0.0      0.0   \n",
       "15540              0.0                  0.0                  0.0      0.0   \n",
       "15541             10.0                  0.0                  4.0      0.0   \n",
       "15542              0.0                  0.0                  0.0      3.0   \n",
       "15543              0.0                  0.0                  8.0      0.0   \n",
       "\n",
       "       Miscellaneous Stores  \\\n",
       "0                      34.0   \n",
       "1                      28.0   \n",
       "2                      27.0   \n",
       "3                      85.0   \n",
       "4                      16.0   \n",
       "...                     ...   \n",
       "15539                  26.0   \n",
       "15540                   0.0   \n",
       "15541                 268.0   \n",
       "15542                   6.0   \n",
       "15543                  74.0   \n",
       "\n",
       "       Professional Services and Membership Organizations  \\\n",
       "0                                                    0.0    \n",
       "1                                                    0.0    \n",
       "2                                                    0.0    \n",
       "3                                                    0.0    \n",
       "4                                                    0.0    \n",
       "...                                                  ...    \n",
       "15539                                                0.0    \n",
       "15540                                                0.0    \n",
       "15541                                                0.0    \n",
       "15542                                                0.0    \n",
       "15543                                                1.0    \n",
       "\n",
       "       Retail Outlet Services  Transportation Services  \\\n",
       "0                       277.0                     20.0   \n",
       "1                        38.0                     11.0   \n",
       "2                        71.0                      5.0   \n",
       "3                        33.0                      3.0   \n",
       "4                         5.0                     19.0   \n",
       "...                       ...                      ...   \n",
       "15539                    10.0                     13.0   \n",
       "15540                     3.0                      6.0   \n",
       "15541                   113.0                    168.0   \n",
       "15542                     4.0                      0.0   \n",
       "15543                   119.0                      1.0   \n",
       "\n",
       "       Travel and Entertainment  Utility Services  \n",
       "0                           0.0               1.0  \n",
       "1                           0.0               0.0  \n",
       "2                           0.0               0.0  \n",
       "3                           0.0               2.0  \n",
       "4                           0.0               0.0  \n",
       "...                         ...               ...  \n",
       "15539                       0.0              20.0  \n",
       "15540                       0.0               0.0  \n",
       "15541                       0.0               0.0  \n",
       "15542                       0.0               0.0  \n",
       "15543                       0.0               0.0  \n",
       "\n",
       "[15544 rows x 43 columns]"
      ]
     },
     "execution_count": 14,
     "metadata": {},
     "output_type": "execute_result"
    }
   ],
   "source": [
    "users"
   ]
  },
  {
   "cell_type": "code",
   "execution_count": 15,
   "metadata": {
    "colab": {
     "base_uri": "https://localhost:8080/",
     "height": 807
    },
    "colab_type": "code",
    "id": "EnqOvSodByc8",
    "outputId": "7cf4b817-56f1-4a71-cf30-f7d7b290b6c9"
   },
   "outputs": [
    {
     "data": {
      "text/plain": [
       "Unnamed: 0                                            False\n",
       "user_id                                               False\n",
       "birth_year                                            False\n",
       "city                                                  False\n",
       "created_date                                          False\n",
       "user_settings_crypto_unlocked                         False\n",
       "plan                                                  False\n",
       "num_contacts                                          False\n",
       "North-East                                            False\n",
       "UK                                                    False\n",
       "West-South                                            False\n",
       "brand                                                 False\n",
       "number_of_transactions                                False\n",
       "completed_transactions                                False\n",
       "transactions_last_15_days                             False\n",
       "total_amount_usd                                      False\n",
       "total_amount_usd_completed                            False\n",
       "EMAIL                                                 False\n",
       "PUSH                                                  False\n",
       "SMS                                                   False\n",
       "PUSH_sent                                             False\n",
       "EMAIL_sent                                            False\n",
       "SMS_sent                                              False\n",
       "Perc_comp_transactions                                False\n",
       "Perc_compl_amount                                     False\n",
       "transactions_april_2019                               False\n",
       "transactions_Jan_Feb_Mar_2019                         False\n",
       "max_amount_usd_completed                              False\n",
       "min_amount_usd_completed                              False\n",
       "mean_amount_usd_completed                             False\n",
       "Agricultural Services                                  True\n",
       "Business Services                                      True\n",
       "Car Rental                                             True\n",
       "Clothing Stores                                        True\n",
       "Contracted Services                                    True\n",
       "Government Services                                    True\n",
       "Lodging                                                True\n",
       "Miscellaneous Stores                                   True\n",
       "Professional Services and Membership Organizations     True\n",
       "Retail Outlet Services                                 True\n",
       "Transportation Services                                True\n",
       "Travel and Entertainment                               True\n",
       "Utility Services                                       True\n",
       "dtype: bool"
      ]
     },
     "execution_count": 15,
     "metadata": {},
     "output_type": "execute_result"
    }
   ],
   "source": [
    "users.isna().any()"
   ]
  },
  {
   "cell_type": "code",
   "execution_count": 16,
   "metadata": {
    "colab": {},
    "colab_type": "code",
    "id": "2T0K2wzjB0-A"
   },
   "outputs": [],
   "source": [
    "users['Agricultural Services']=users['Agricultural Services'].fillna(0)\n",
    "users['Business Services']= users['Business Services'].fillna(0)\n",
    "users['Car Rental']=users['Car Rental'].fillna(0)\n",
    "users['Clothing Stores']=users['Clothing Stores'].fillna(0)\n",
    "users['Contracted Services']=users['Contracted Services'].fillna(0)\n",
    "users['Lodging']=users['Lodging'].fillna(0)\n",
    "users['Miscellaneous Stores']=users['Miscellaneous Stores'].fillna(0)\n",
    "users['Professional Services and Membership Organizations']=users['Professional Services and Membership Organizations'].fillna(0)\n",
    "users['Retail Outlet Services']=users['Retail Outlet Services'].fillna(0)\n",
    "users['Transportation Services']=users['Transportation Services'].fillna(0)\n",
    "users['Government Services']=users['Government Services'].fillna(0)\n",
    "users['Travel and Entertainment']=users['Travel and Entertainment'].fillna(0)\n",
    "users['Utility Services']=users['Utility Services'].fillna(0)"
   ]
  },
  {
   "cell_type": "code",
   "execution_count": 17,
   "metadata": {
    "colab": {
     "base_uri": "https://localhost:8080/",
     "height": 807
    },
    "colab_type": "code",
    "id": "En7Wf5uQCKV4",
    "outputId": "e529cc59-4eb3-4382-ed14-767097135bfd"
   },
   "outputs": [
    {
     "data": {
      "text/plain": [
       "Unnamed: 0                                            False\n",
       "user_id                                               False\n",
       "birth_year                                            False\n",
       "city                                                  False\n",
       "created_date                                          False\n",
       "user_settings_crypto_unlocked                         False\n",
       "plan                                                  False\n",
       "num_contacts                                          False\n",
       "North-East                                            False\n",
       "UK                                                    False\n",
       "West-South                                            False\n",
       "brand                                                 False\n",
       "number_of_transactions                                False\n",
       "completed_transactions                                False\n",
       "transactions_last_15_days                             False\n",
       "total_amount_usd                                      False\n",
       "total_amount_usd_completed                            False\n",
       "EMAIL                                                 False\n",
       "PUSH                                                  False\n",
       "SMS                                                   False\n",
       "PUSH_sent                                             False\n",
       "EMAIL_sent                                            False\n",
       "SMS_sent                                              False\n",
       "Perc_comp_transactions                                False\n",
       "Perc_compl_amount                                     False\n",
       "transactions_april_2019                               False\n",
       "transactions_Jan_Feb_Mar_2019                         False\n",
       "max_amount_usd_completed                              False\n",
       "min_amount_usd_completed                              False\n",
       "mean_amount_usd_completed                             False\n",
       "Agricultural Services                                 False\n",
       "Business Services                                     False\n",
       "Car Rental                                            False\n",
       "Clothing Stores                                       False\n",
       "Contracted Services                                   False\n",
       "Government Services                                   False\n",
       "Lodging                                               False\n",
       "Miscellaneous Stores                                  False\n",
       "Professional Services and Membership Organizations    False\n",
       "Retail Outlet Services                                False\n",
       "Transportation Services                               False\n",
       "Travel and Entertainment                              False\n",
       "Utility Services                                      False\n",
       "dtype: bool"
      ]
     },
     "execution_count": 17,
     "metadata": {},
     "output_type": "execute_result"
    }
   ],
   "source": [
    "users.isna().any()"
   ]
  },
  {
   "cell_type": "markdown",
   "metadata": {
    "colab_type": "text",
    "id": "J-IjFeOtCOXE"
   },
   "source": [
    "# 4.2 Merchant Country"
   ]
  },
  {
   "cell_type": "code",
   "execution_count": 18,
   "metadata": {
    "colab": {},
    "colab_type": "code",
    "id": "i2e6XbERCMOn"
   },
   "outputs": [],
   "source": [
    "def mcountry(x):\n",
    "  if x in ('GBR','IRL','FRA','POL','NLD','LTU','ROM','DEU','LUX','CZE','CHE','SWE','HUN','DNK','LVA','EST','BEL','NOR','AUT','ROU','SVK','FIN','BGR','UKR','ISL','BLR','GEO','MCO','MDA','JEY',\"SMR\", \"FRO\", \"LIE\", \"IMN\"):\n",
    "    return 'North-Europe'\n",
    "  elif x in ('USA','CAN','BRA','MEX','ARG','COL','CHL','PER','CRI','GLP','PAN','BOL','URY','DOM','BRB','ECU','GTM','VEN',\"ATG\", \"JAM\", \"BHM\", \"BHS\", \"CUB\", \"MTQ\", \"PRI\", \"LCA\", \"BLZ\", \"HND\", \"CYM\", \"SXM\", \"SLV\", \"NIC\", \"VGB\", \"GRD\", \"TCA\", \"DMA\", \"VIR\", \"AIA\", \"KNA\", \"ANT\", \"MAF\",\"TTO\", \"PRY\", \"CUW\", \"GUF\", \"VCT\", \"SUR\", \"ABW\"):\n",
    "    return 'Americas'\n",
    "  elif x in ('AUS','NZL','NCL',\"PYF\", \"FJI\", \"COK\", \"VUT\", \"HMD\", \"PCN\",\"GGY\",\"QZZ\", \"AGB\", \"APT\", \"SGB\", \"PGB\", \"SCH\"):\n",
    "    return 'Oceania' \n",
    "  elif x in ('ZAF','MAR','KHM','EGY','TUN','MUS','JOR','KEN','LBN','MOZ','UGA','SEN',\"NGA\", \"NER\", \"NAM\", \"TZA\", \"MWI\", \"CMR\", \"BWA\", \"CPV\", \"SYC\", \"MDG\", \"MYT\", \"ZWE\", \"GHA\", \"GMB\", \"ZMB\", \"ETH\", \"DZA\", \"BFA\", \"GIN\", \"BEN\", \"TCD\", \"GAB\", \"ZAR\", \"AGO\", \"RWA\", \"SWZ\", \"GNQ\", \"TGO\", \"LSO\", \"COD\"):\n",
    "    return 'Africa'\n",
    "  elif x in ('JPN','ISR','THA','TUR','SGP','ARE','RUS','IDN','HKG','VNM','MYS','IND','KOR','CHN','PHL','LKA','TWN','QAT','SAU','LAO',\"BHR\", \"MDV\", \"KAZ\", \"OMN\", \"NPL\", \"CIV\", \"ARM\", \"MMR\", \"KGZ\", \"KWT\", \"AZE\", \"PAK\", \"PSE\", \"MAC\", \"MNG\", \"UZB\", \"BRN\", \"BGD\", \"TKM\"):\n",
    "    return 'Asia'\n",
    "  elif x in ('ESP','ITA','MLT','PRT','GRC','CYP','SRB','AND','GIB','SVN','MNE','HRV','MKD','BIH',\"ALB\", \"VAT\"): \n",
    "    return 'South-Europe'"
   ]
  },
  {
   "cell_type": "code",
   "execution_count": 19,
   "metadata": {
    "colab": {},
    "colab_type": "code",
    "id": "Ri32B8xPCSo6"
   },
   "outputs": [],
   "source": [
    "transactions['ea_merchant_country']=transactions['ea_merchant_country'].apply(mcountry)"
   ]
  },
  {
   "cell_type": "code",
   "execution_count": 20,
   "metadata": {
    "colab": {
     "base_uri": "https://localhost:8080/",
     "height": 146
    },
    "colab_type": "code",
    "id": "N6-Dksp9CUiy",
    "outputId": "97175480-a016-491c-8972-ab3cda0a669c"
   },
   "outputs": [
    {
     "data": {
      "text/plain": [
       "North-Europe    911486\n",
       "South-Europe    138397\n",
       "Americas        107846\n",
       "Asia             61122\n",
       "Oceania          26224\n",
       "Africa           11354\n",
       "Name: ea_merchant_country, dtype: int64"
      ]
     },
     "execution_count": 20,
     "metadata": {},
     "output_type": "execute_result"
    }
   ],
   "source": [
    "transactions['ea_merchant_country'].value_counts()"
   ]
  },
  {
   "cell_type": "code",
   "execution_count": 21,
   "metadata": {
    "colab": {},
    "colab_type": "code",
    "id": "k-2yNenGCZ08"
   },
   "outputs": [],
   "source": [
    " merch_country =pd.crosstab(index=transactions['ea_merchant_country'], columns=transactions['user_id']).T"
   ]
  },
  {
   "cell_type": "code",
   "execution_count": 22,
   "metadata": {
    "colab": {},
    "colab_type": "code",
    "id": "MpNKNY8XCbJ8"
   },
   "outputs": [],
   "source": [
    "users =pd.merge(users,merch_country, how='left',left_on='user_id',right_index=True)"
   ]
  },
  {
   "cell_type": "code",
   "execution_count": 23,
   "metadata": {
    "colab": {
     "base_uri": "https://localhost:8080/",
     "height": 917
    },
    "colab_type": "code",
    "id": "yQvMuT6yCjUd",
    "outputId": "b1f0048b-6cbf-448e-fe6c-c4d944ea8e30"
   },
   "outputs": [
    {
     "data": {
      "text/plain": [
       "Unnamed: 0                                            False\n",
       "user_id                                               False\n",
       "birth_year                                            False\n",
       "city                                                  False\n",
       "created_date                                          False\n",
       "user_settings_crypto_unlocked                         False\n",
       "plan                                                  False\n",
       "num_contacts                                          False\n",
       "North-East                                            False\n",
       "UK                                                    False\n",
       "West-South                                            False\n",
       "brand                                                 False\n",
       "number_of_transactions                                False\n",
       "completed_transactions                                False\n",
       "transactions_last_15_days                             False\n",
       "total_amount_usd                                      False\n",
       "total_amount_usd_completed                            False\n",
       "EMAIL                                                 False\n",
       "PUSH                                                  False\n",
       "SMS                                                   False\n",
       "PUSH_sent                                             False\n",
       "EMAIL_sent                                            False\n",
       "SMS_sent                                              False\n",
       "Perc_comp_transactions                                False\n",
       "Perc_compl_amount                                     False\n",
       "transactions_april_2019                               False\n",
       "transactions_Jan_Feb_Mar_2019                         False\n",
       "max_amount_usd_completed                              False\n",
       "min_amount_usd_completed                              False\n",
       "mean_amount_usd_completed                             False\n",
       "Agricultural Services                                 False\n",
       "Business Services                                     False\n",
       "Car Rental                                            False\n",
       "Clothing Stores                                       False\n",
       "Contracted Services                                   False\n",
       "Government Services                                   False\n",
       "Lodging                                               False\n",
       "Miscellaneous Stores                                  False\n",
       "Professional Services and Membership Organizations    False\n",
       "Retail Outlet Services                                False\n",
       "Transportation Services                               False\n",
       "Travel and Entertainment                              False\n",
       "Utility Services                                      False\n",
       "Africa                                                 True\n",
       "Americas                                               True\n",
       "Asia                                                   True\n",
       "North-Europe                                           True\n",
       "Oceania                                                True\n",
       "South-Europe                                           True\n",
       "dtype: bool"
      ]
     },
     "execution_count": 23,
     "metadata": {},
     "output_type": "execute_result"
    }
   ],
   "source": [
    "users.isna().any()"
   ]
  },
  {
   "cell_type": "code",
   "execution_count": 24,
   "metadata": {
    "colab": {},
    "colab_type": "code",
    "id": "TF-97cKMCtJb"
   },
   "outputs": [],
   "source": [
    "users['Africa'] = users['Africa'].fillna(0)\n",
    "users['Americas'] = users['Americas'].fillna(0)\n",
    "users['Asia'] = users['Asia'].fillna(0)\n",
    "users['North-Europe'] = users['North-Europe'].fillna(0)\n",
    "users['Oceania'] = users['Oceania'].fillna(0)\n",
    "users['South-Europe'] = users['South-Europe'].fillna(0)"
   ]
  },
  {
   "cell_type": "markdown",
   "metadata": {
    "colab_type": "text",
    "id": "xupRXOwtIstf"
   },
   "source": [
    "# 4.3 K-means clustering"
   ]
  },
  {
   "cell_type": "code",
   "execution_count": 25,
   "metadata": {
    "colab": {
     "base_uri": "https://localhost:8080/",
     "height": 329
    },
    "colab_type": "code",
    "id": "4ilhR3l3C5Qk",
    "outputId": "cbe67ff6-f124-4a4e-b511-e7a6eec1c075"
   },
   "outputs": [
    {
     "data": {
      "text/plain": [
       "Index(['Unnamed: 0', 'user_id', 'birth_year', 'city', 'created_date',\n",
       "       'user_settings_crypto_unlocked', 'plan', 'num_contacts', 'North-East',\n",
       "       'UK', 'West-South', 'brand', 'number_of_transactions',\n",
       "       'completed_transactions', 'transactions_last_15_days',\n",
       "       'total_amount_usd', 'total_amount_usd_completed', 'EMAIL', 'PUSH',\n",
       "       'SMS', 'PUSH_sent', 'EMAIL_sent', 'SMS_sent', 'Perc_comp_transactions',\n",
       "       'Perc_compl_amount', 'transactions_april_2019',\n",
       "       'transactions_Jan_Feb_Mar_2019', 'max_amount_usd_completed',\n",
       "       'min_amount_usd_completed', 'mean_amount_usd_completed',\n",
       "       'Agricultural Services', 'Business Services', 'Car Rental',\n",
       "       'Clothing Stores', 'Contracted Services', 'Government Services',\n",
       "       'Lodging', 'Miscellaneous Stores',\n",
       "       'Professional Services and Membership Organizations',\n",
       "       'Retail Outlet Services', 'Transportation Services',\n",
       "       'Travel and Entertainment', 'Utility Services', 'Africa', 'Americas',\n",
       "       'Asia', 'North-Europe', 'Oceania', 'South-Europe'],\n",
       "      dtype='object')"
      ]
     },
     "execution_count": 25,
     "metadata": {},
     "output_type": "execute_result"
    }
   ],
   "source": [
    "users.columns"
   ]
  },
  {
   "cell_type": "code",
   "execution_count": 26,
   "metadata": {
    "colab": {},
    "colab_type": "code",
    "id": "qU5BJA_NC9FX"
   },
   "outputs": [],
   "source": [
    "from sklearn.cluster import KMeans\n",
    "from sklearn.decomposition import PCA\n",
    "from sklearn.metrics import silhouette_samples, silhouette_score\n",
    "from sklearn.preprocessing import MinMaxScaler"
   ]
  },
  {
   "cell_type": "code",
   "execution_count": 27,
   "metadata": {
    "colab": {},
    "colab_type": "code",
    "id": "50B3TOKHC_Q6"
   },
   "outputs": [],
   "source": [
    "X = users[['birth_year','user_settings_crypto_unlocked','plan','North-East','UK','West-South','brand',\n",
    "           'Agricultural Services','Business Services','Car Rental','Clothing Stores','Contracted Services',\n",
    "           'Government Services','Lodging','Miscellaneous Stores','Professional Services and Membership Organizations','Retail Outlet Services',\n",
    "           'Transportation Services','Travel and Entertainment','Utility Services','Perc_compl_amount',\n",
    "           'Africa','Americas','Asia','North-Europe','Oceania', 'South-Europe']]"
   ]
  },
  {
   "cell_type": "code",
   "execution_count": 28,
   "metadata": {
    "colab": {
     "base_uri": "https://localhost:8080/",
     "height": 146
    },
    "colab_type": "code",
    "id": "SQ4XLSuBDBbZ",
    "outputId": "f0bb91e7-c802-42c2-965d-d3b87219ef84"
   },
   "outputs": [
    {
     "name": "stdout",
     "output_type": "stream",
     "text": [
      "For k = 3 The average silhouette_score is : 0.6470728047431583\n",
      "For k = 4 The average silhouette_score is : 0.5410873535936738\n",
      "For k = 5 The average silhouette_score is : 0.46466469747282657\n",
      "For k = 6 The average silhouette_score is : 0.4486037651939227\n",
      "For k = 7 The average silhouette_score is : 0.40488976179005665\n",
      "For k = 8 The average silhouette_score is : 0.41010033095464266\n",
      "For k = 9 The average silhouette_score is : 0.40691141196656594\n"
     ]
    }
   ],
   "source": [
    "matrix = X.values\n",
    "for k in range(3, 10):\n",
    "    kmeans = KMeans(n_clusters=k, n_init=30, random_state=1000)\n",
    "    kmeans.fit(matrix)\n",
    "    clusters = kmeans.predict(matrix)\n",
    "    silhouette_avg = silhouette_score(matrix, clusters)\n",
    "    print(\"For k =\", k, \"The average silhouette_score is :\", silhouette_avg)"
   ]
  },
  {
   "cell_type": "code",
   "execution_count": 29,
   "metadata": {
    "colab": {},
    "colab_type": "code",
    "id": "tdziB9zVDEF3"
   },
   "outputs": [],
   "source": [
    "k = 3\n",
    "kmeans = KMeans(n_clusters = k, n_init=30)\n",
    "kmeans.fit(matrix)\n",
    "clusters = kmeans.predict(matrix)"
   ]
  },
  {
   "cell_type": "code",
   "execution_count": 30,
   "metadata": {
    "colab": {
     "base_uri": "https://localhost:8080/",
     "height": 90
    },
    "colab_type": "code",
    "id": "ewoZyukUDGTk",
    "outputId": "47da08ca-bc20-494d-ba92-61c81f166bc5"
   },
   "outputs": [
    {
     "data": {
      "text/plain": [
       "0    13219\n",
       "2     1993\n",
       "1      332\n",
       "dtype: int64"
      ]
     },
     "execution_count": 30,
     "metadata": {},
     "output_type": "execute_result"
    }
   ],
   "source": [
    "pd.Series(clusters).value_counts()"
   ]
  },
  {
   "cell_type": "code",
   "execution_count": 31,
   "metadata": {
    "colab": {},
    "colab_type": "code",
    "id": "o9-MwfuvDh_g"
   },
   "outputs": [],
   "source": [
    "c=kmeans.cluster_centers_"
   ]
  },
  {
   "cell_type": "code",
   "execution_count": 32,
   "metadata": {
    "colab": {},
    "colab_type": "code",
    "id": "P16HS-dYDr-Z"
   },
   "outputs": [],
   "source": [
    "clusters1 = pd.DataFrame(clusters)"
   ]
  },
  {
   "cell_type": "code",
   "execution_count": 33,
   "metadata": {
    "colab": {},
    "colab_type": "code",
    "id": "GUlGBU3jDtPD"
   },
   "outputs": [],
   "source": [
    "users['clusters'] = clusters1"
   ]
  },
  {
   "cell_type": "code",
   "execution_count": 34,
   "metadata": {
    "colab": {
     "base_uri": "https://localhost:8080/",
     "height": 278
    },
    "colab_type": "code",
    "id": "IfC1wfKZDvoH",
    "outputId": "a8c64b3e-961e-49ff-8559-1138bade6bf1"
   },
   "outputs": [
    {
     "data": {
      "text/html": [
       "<div>\n",
       "<style scoped>\n",
       "    .dataframe tbody tr th:only-of-type {\n",
       "        vertical-align: middle;\n",
       "    }\n",
       "\n",
       "    .dataframe tbody tr th {\n",
       "        vertical-align: top;\n",
       "    }\n",
       "\n",
       "    .dataframe thead th {\n",
       "        text-align: right;\n",
       "    }\n",
       "</style>\n",
       "<table border=\"1\" class=\"dataframe\">\n",
       "  <thead>\n",
       "    <tr style=\"text-align: right;\">\n",
       "      <th></th>\n",
       "      <th>Unnamed: 0</th>\n",
       "      <th>user_id</th>\n",
       "      <th>birth_year</th>\n",
       "      <th>city</th>\n",
       "      <th>created_date</th>\n",
       "      <th>user_settings_crypto_unlocked</th>\n",
       "      <th>plan</th>\n",
       "      <th>num_contacts</th>\n",
       "      <th>North-East</th>\n",
       "      <th>UK</th>\n",
       "      <th>...</th>\n",
       "      <th>Transportation Services</th>\n",
       "      <th>Travel and Entertainment</th>\n",
       "      <th>Utility Services</th>\n",
       "      <th>Africa</th>\n",
       "      <th>Americas</th>\n",
       "      <th>Asia</th>\n",
       "      <th>North-Europe</th>\n",
       "      <th>Oceania</th>\n",
       "      <th>South-Europe</th>\n",
       "      <th>clusters</th>\n",
       "    </tr>\n",
       "  </thead>\n",
       "  <tbody>\n",
       "    <tr>\n",
       "      <th>0</th>\n",
       "      <td>0</td>\n",
       "      <td>user_0</td>\n",
       "      <td>13</td>\n",
       "      <td>1</td>\n",
       "      <td>1</td>\n",
       "      <td>0</td>\n",
       "      <td>0</td>\n",
       "      <td>3</td>\n",
       "      <td>0</td>\n",
       "      <td>1</td>\n",
       "      <td>...</td>\n",
       "      <td>20.0</td>\n",
       "      <td>0.0</td>\n",
       "      <td>1.0</td>\n",
       "      <td>0.0</td>\n",
       "      <td>0.0</td>\n",
       "      <td>0.0</td>\n",
       "      <td>335.0</td>\n",
       "      <td>0.0</td>\n",
       "      <td>9.0</td>\n",
       "      <td>2</td>\n",
       "    </tr>\n",
       "    <tr>\n",
       "      <th>1</th>\n",
       "      <td>1</td>\n",
       "      <td>user_1</td>\n",
       "      <td>12</td>\n",
       "      <td>0</td>\n",
       "      <td>1</td>\n",
       "      <td>1</td>\n",
       "      <td>0</td>\n",
       "      <td>75</td>\n",
       "      <td>1</td>\n",
       "      <td>0</td>\n",
       "      <td>...</td>\n",
       "      <td>11.0</td>\n",
       "      <td>0.0</td>\n",
       "      <td>0.0</td>\n",
       "      <td>0.0</td>\n",
       "      <td>0.0</td>\n",
       "      <td>27.0</td>\n",
       "      <td>47.0</td>\n",
       "      <td>17.0</td>\n",
       "      <td>0.0</td>\n",
       "      <td>0</td>\n",
       "    </tr>\n",
       "    <tr>\n",
       "      <th>2</th>\n",
       "      <td>2</td>\n",
       "      <td>user_2</td>\n",
       "      <td>14</td>\n",
       "      <td>0</td>\n",
       "      <td>1</td>\n",
       "      <td>0</td>\n",
       "      <td>0</td>\n",
       "      <td>71</td>\n",
       "      <td>1</td>\n",
       "      <td>0</td>\n",
       "      <td>...</td>\n",
       "      <td>5.0</td>\n",
       "      <td>0.0</td>\n",
       "      <td>0.0</td>\n",
       "      <td>0.0</td>\n",
       "      <td>0.0</td>\n",
       "      <td>0.0</td>\n",
       "      <td>106.0</td>\n",
       "      <td>0.0</td>\n",
       "      <td>0.0</td>\n",
       "      <td>0</td>\n",
       "    </tr>\n",
       "    <tr>\n",
       "      <th>3</th>\n",
       "      <td>3</td>\n",
       "      <td>user_3</td>\n",
       "      <td>11</td>\n",
       "      <td>1</td>\n",
       "      <td>1</td>\n",
       "      <td>0</td>\n",
       "      <td>0</td>\n",
       "      <td>219</td>\n",
       "      <td>1</td>\n",
       "      <td>0</td>\n",
       "      <td>...</td>\n",
       "      <td>3.0</td>\n",
       "      <td>0.0</td>\n",
       "      <td>2.0</td>\n",
       "      <td>0.0</td>\n",
       "      <td>9.0</td>\n",
       "      <td>0.0</td>\n",
       "      <td>119.0</td>\n",
       "      <td>0.0</td>\n",
       "      <td>0.0</td>\n",
       "      <td>2</td>\n",
       "    </tr>\n",
       "    <tr>\n",
       "      <th>4</th>\n",
       "      <td>4</td>\n",
       "      <td>user_4</td>\n",
       "      <td>13</td>\n",
       "      <td>1</td>\n",
       "      <td>1</td>\n",
       "      <td>0</td>\n",
       "      <td>0</td>\n",
       "      <td>0</td>\n",
       "      <td>0</td>\n",
       "      <td>1</td>\n",
       "      <td>...</td>\n",
       "      <td>19.0</td>\n",
       "      <td>0.0</td>\n",
       "      <td>0.0</td>\n",
       "      <td>0.0</td>\n",
       "      <td>1.0</td>\n",
       "      <td>0.0</td>\n",
       "      <td>36.0</td>\n",
       "      <td>0.0</td>\n",
       "      <td>6.0</td>\n",
       "      <td>0</td>\n",
       "    </tr>\n",
       "  </tbody>\n",
       "</table>\n",
       "<p>5 rows × 50 columns</p>\n",
       "</div>"
      ],
      "text/plain": [
       "   Unnamed: 0 user_id  birth_year  city  created_date  \\\n",
       "0           0  user_0          13     1             1   \n",
       "1           1  user_1          12     0             1   \n",
       "2           2  user_2          14     0             1   \n",
       "3           3  user_3          11     1             1   \n",
       "4           4  user_4          13     1             1   \n",
       "\n",
       "   user_settings_crypto_unlocked  plan  num_contacts  North-East  UK  ...  \\\n",
       "0                              0     0             3           0   1  ...   \n",
       "1                              1     0            75           1   0  ...   \n",
       "2                              0     0            71           1   0  ...   \n",
       "3                              0     0           219           1   0  ...   \n",
       "4                              0     0             0           0   1  ...   \n",
       "\n",
       "   Transportation Services  Travel and Entertainment  Utility Services  \\\n",
       "0                     20.0                       0.0               1.0   \n",
       "1                     11.0                       0.0               0.0   \n",
       "2                      5.0                       0.0               0.0   \n",
       "3                      3.0                       0.0               2.0   \n",
       "4                     19.0                       0.0               0.0   \n",
       "\n",
       "   Africa  Americas  Asia  North-Europe  Oceania  South-Europe  clusters  \n",
       "0     0.0       0.0   0.0         335.0      0.0           9.0         2  \n",
       "1     0.0       0.0  27.0          47.0     17.0           0.0         0  \n",
       "2     0.0       0.0   0.0         106.0      0.0           0.0         0  \n",
       "3     0.0       9.0   0.0         119.0      0.0           0.0         2  \n",
       "4     0.0       1.0   0.0          36.0      0.0           6.0         0  \n",
       "\n",
       "[5 rows x 50 columns]"
      ]
     },
     "execution_count": 34,
     "metadata": {},
     "output_type": "execute_result"
    }
   ],
   "source": [
    "users.head()"
   ]
  },
  {
   "cell_type": "code",
   "execution_count": 35,
   "metadata": {
    "colab": {
     "base_uri": "https://localhost:8080/",
     "height": 403
    },
    "colab_type": "code",
    "id": "FF0TXl7sDxhK",
    "outputId": "234fcacc-3575-40f5-9934-39002bfa9114"
   },
   "outputs": [
    {
     "data": {
      "text/plain": [
       "array([[1.12274756e+01, 1.58181406e-01, 4.97768364e-02, 3.26045843e-01,\n",
       "        3.73477570e-01, 3.00476587e-01, 4.93985929e-01, 1.14305167e-01,\n",
       "        2.44254482e+00, 4.29684545e-02, 1.41220970e+00, 3.86564793e-02,\n",
       "        2.38293366e-01, 1.34805961e-01, 1.85166805e+01, 5.84159165e-01,\n",
       "        9.61850367e+00, 3.90528784e+00, 2.18549058e-01, 6.75542779e-01,\n",
       "        7.95849221e+01, 5.15394508e-01, 5.30516681e+00, 2.88909902e+00,\n",
       "        2.13361828e+01, 1.24358877e+00, 6.62183221e+00],\n",
       "       [1.19759036e+01, 4.03614458e-01, 3.46385542e-01, 3.58433735e-01,\n",
       "        4.45783133e-01, 1.95783133e-01, 5.51204819e-01, 5.03012048e-01,\n",
       "        3.53855422e+01, 2.40963855e-01, 1.68012048e+01, 1.03915663e+00,\n",
       "        2.15662651e+00, 8.22289157e-01, 3.33852410e+02, 7.57831325e+00,\n",
       "        1.95804217e+02, 8.77319277e+01, 2.89156627e+00, 8.69277108e+00,\n",
       "        8.67654749e+01, 2.70180723e+00, 2.02289157e+01, 8.56024096e+00,\n",
       "        6.41548193e+02, 3.22289157e+00, 1.71445783e+01],\n",
       "       [1.19207225e+01, 3.06071249e-01, 1.89162067e-01, 3.97390868e-01,\n",
       "        3.59759157e-01, 2.42849975e-01, 5.01254390e-01, 4.02408430e-01,\n",
       "        1.58986453e+01, 1.97190166e-01, 6.81184145e+00, 1.57551430e-01,\n",
       "        1.39287506e+00, 4.95233317e-01, 1.19466131e+02, 3.43753136e+00,\n",
       "        7.88830908e+01, 3.06437531e+01, 1.24435524e+00, 4.51530356e+00,\n",
       "        8.64580902e+01, 1.82839940e+00, 1.55549423e+01, 1.00797792e+01,\n",
       "        2.08955845e+02, 4.37280482e+00, 2.26648269e+01]])"
      ]
     },
     "execution_count": 35,
     "metadata": {},
     "output_type": "execute_result"
    }
   ],
   "source": [
    "c"
   ]
  },
  {
   "cell_type": "code",
   "execution_count": 36,
   "metadata": {
    "colab": {},
    "colab_type": "code",
    "id": "qN5JArT9D0E5"
   },
   "outputs": [],
   "source": [
    "names =['birth_year','user_settings_crypto_unlocked','plan','North-East','UK','West-South','brand',\n",
    "           'Agricultural Services','Business Services','Car Rental','Clothing Stores','Contracted Services',\n",
    "           'Government Services','Lodging','Miscellaneous Stores','Professional Services and Membership Organizations','Retail Outlet Services',\n",
    "           'Transportation Services','Travel and Entertainment','Utility Services','Perc_compl_amount',\n",
    "            'Africa','Americas','Asia','North-Europe','Oceania', 'South-Europe']"
   ]
  },
  {
   "cell_type": "code",
   "execution_count": 37,
   "metadata": {
    "colab": {
     "base_uri": "https://localhost:8080/",
     "height": 298
    },
    "colab_type": "code",
    "id": "0zWbLR6mD1t1",
    "outputId": "b8c64293-05c9-4063-854c-2c0df990eec6"
   },
   "outputs": [
    {
     "data": {
      "text/plain": [
       "Text(0, 0.5, 'Perc_compl_amount')"
      ]
     },
     "execution_count": 37,
     "metadata": {},
     "output_type": "execute_result"
    },
    {
     "data": {
      "image/png": "[encoded data removed]",
      "text/plain": [
       "<Figure size 432x288 with 1 Axes>"
      ]
     },
     "metadata": {
      "needs_background": "light"
     },
     "output_type": "display_data"
    }
   ],
   "source": [
    "x1=14\n",
    "x2=20\n",
    "plt.scatter(c[:,x1],c[:,x2],c=['C0','C1','C2'])\n",
    "plt.xlabel(names[x1])\n",
    "plt.ylabel(names[x2])\n"
   ]
  },
  {
   "cell_type": "code",
   "execution_count": 38,
   "metadata": {
    "colab": {
     "base_uri": "https://localhost:8080/",
     "height": 297
    },
    "colab_type": "code",
    "id": "kzlRDWBVD3Wl",
    "outputId": "3b5abf94-d9e2-4178-818f-53cd29253eb3"
   },
   "outputs": [
    {
     "data": {
      "text/plain": [
       "<matplotlib.collections.PathCollection at 0x1c13fc173c8>"
      ]
     },
     "execution_count": 38,
     "metadata": {},
     "output_type": "execute_result"
    },
    {
     "data": {
      "image/png": "[encoded data removed]",
      "text/plain": [
       "<Figure size 432x288 with 1 Axes>"
      ]
     },
     "metadata": {
      "needs_background": "light"
     },
     "output_type": "display_data"
    }
   ],
   "source": [
    "x1=14\n",
    "x2=20\n",
    "plt.scatter(c[:,x1],c[:,x2],c=['C0','C1','C2'])\n",
    "plt.xlabel(names[x1])\n",
    "plt.ylabel(names[x2])\n",
    "plt.scatter(users.loc[:,'completed_transactions'],matrix[:,x2], c=clusters)"
   ]
  },
  {
   "cell_type": "code",
   "execution_count": 39,
   "metadata": {
    "colab": {
     "base_uri": "https://localhost:8080/",
     "height": 35
    },
    "colab_type": "code",
    "id": "XyKfwINoD5hB",
    "outputId": "cedfa5a8-9949-428e-fc64-0a42845a198e"
   },
   "outputs": [
    {
     "data": {
      "text/plain": [
       "array([2, 0, 0, ..., 1, 0, 2])"
      ]
     },
     "execution_count": 39,
     "metadata": {},
     "output_type": "execute_result"
    }
   ],
   "source": [
    "clusters"
   ]
  },
  {
   "cell_type": "code",
   "execution_count": 40,
   "metadata": {
    "colab": {
     "base_uri": "https://localhost:8080/",
     "height": 237
    },
    "colab_type": "code",
    "id": "xw57j5IYD7q6",
    "outputId": "dce86b04-ac52-4cf7-fa31-93570c49c15b"
   },
   "outputs": [
    {
     "data": {
      "text/plain": [
       "1        133.0\n",
       "2        268.0\n",
       "4         50.0\n",
       "5          2.0\n",
       "6         76.0\n",
       "         ...  \n",
       "15537      1.0\n",
       "15538     14.0\n",
       "15539     91.0\n",
       "15540     10.0\n",
       "15542     23.0\n",
       "Name: completed_transactions, Length: 13219, dtype: float64"
      ]
     },
     "execution_count": 40,
     "metadata": {},
     "output_type": "execute_result"
    }
   ],
   "source": [
    "users[clusters==0]['completed_transactions']"
   ]
  },
  {
   "cell_type": "code",
   "execution_count": 41,
   "metadata": {
    "colab": {
     "base_uri": "https://localhost:8080/",
     "height": 326
    },
    "colab_type": "code",
    "id": "H8umPn_bD-V9",
    "outputId": "b4e837aa-174a-4488-976c-496cbbbb0485"
   },
   "outputs": [
    {
     "data": {
      "text/plain": [
       "<matplotlib.legend.Legend at 0x1c13fc8b308>"
      ]
     },
     "execution_count": 41,
     "metadata": {},
     "output_type": "execute_result"
    },
    {
     "data": {
      "image/png": "[encoded data removed]",
      "text/plain": [
       "<Figure size 432x288 with 1 Axes>"
      ]
     },
     "metadata": {
      "needs_background": "light"
     },
     "output_type": "display_data"
    }
   ],
   "source": [
    "sns.distplot(users[clusters==0]['completed_transactions'],color='forestgreen')\n",
    "sns.distplot(users[clusters==1]['completed_transactions'],color='gold')\n",
    "sns.distplot(users[clusters==2]['completed_transactions'],color='slateblue')\n",
    "plt.ylim([0,0.003])\n",
    "plt.xlabel('transactions', fontsize=18)\n",
    "plt.title('User segmentation',fontsize=20)\n",
    "plt.legend(labels=['cluster 0','cluster 1','cluster 2'])"
   ]
  }
 ],
 "metadata": {
  "colab": {
   "collapsed_sections": [],
   "name": "Final Project.ipynb",
   "provenance": []
  },
  "kernelspec": {
   "display_name": "Python 3",
   "language": "python",
   "name": "python3"
  },
  "language_info": {
   "codemirror_mode": {
    "name": "ipython",
    "version": 3
   },
   "file_extension": ".py",
   "mimetype": "text/x-python",
   "name": "python",
   "nbconvert_exporter": "python",
   "pygments_lexer": "ipython3",
   "version": "3.7.7"
  }
 },
 "nbformat": 4,
 "nbformat_minor": 1
}
