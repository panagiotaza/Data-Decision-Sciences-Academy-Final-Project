{
 "cells": [
  {
   "cell_type": "code",
   "execution_count": 1,
   "metadata": {
    "colab": {},
    "colab_type": "code",
    "id": "mxuvMbY8FqCu"
   },
   "outputs": [],
   "source": [
    "import pandas as pd\n",
    "import numpy as np\n",
    "import matplotlib.pyplot as plt\n",
    "import seaborn as sns\n",
    "import sklearn"
   ]
  },
  {
   "cell_type": "code",
   "execution_count": 2,
   "metadata": {},
   "outputs": [],
   "source": [
    "users = pd.read_csv('C:\\\\Users\\\\panag\\\\Desktop\\\\Project Future\\\\Project\\\\data\\\\users_new.csv')"
   ]
  },
  {
   "cell_type": "markdown",
   "metadata": {
    "colab_type": "text",
    "id": "vLTLIHYiHZK3"
   },
   "source": [
    "# 3.Machine Learning Model"
   ]
  },
  {
   "cell_type": "code",
   "execution_count": 3,
   "metadata": {
    "colab": {
     "base_uri": "https://localhost:8080/",
     "height": 201
    },
    "colab_type": "code",
    "id": "sw3AD5ZvHfkE",
    "outputId": "28954738-3f16-44d6-fb2b-94f04a329de2"
   },
   "outputs": [
    {
     "data": {
      "text/plain": [
       "Index(['Unnamed: 0', 'user_id', 'birth_year', 'city', 'created_date',\n",
       "       'user_settings_crypto_unlocked', 'plan', 'num_contacts', 'North-East',\n",
       "       'UK', 'West-South', 'brand', 'number_of_transactions',\n",
       "       'completed_transactions', 'transactions_last_15_days',\n",
       "       'total_amount_usd', 'total_amount_usd_completed', 'EMAIL', 'PUSH',\n",
       "       'SMS', 'PUSH_sent', 'EMAIL_sent', 'SMS_sent', 'Perc_comp_transactions',\n",
       "       'Perc_compl_amount', 'transactions_april_2019',\n",
       "       'transactions_Jan_Feb_Mar_2019', 'max_amount_usd_completed',\n",
       "       'min_amount_usd_completed', 'mean_amount_usd_completed'],\n",
       "      dtype='object')"
      ]
     },
     "execution_count": 3,
     "metadata": {},
     "output_type": "execute_result"
    }
   ],
   "source": [
    "users.columns"
   ]
  },
  {
   "cell_type": "markdown",
   "metadata": {
    "colab_type": "text",
    "id": "3r_hVwvtHkg_"
   },
   "source": [
    "# 3.1 Features of the Model"
   ]
  },
  {
   "cell_type": "code",
   "execution_count": 4,
   "metadata": {
    "colab": {},
    "colab_type": "code",
    "id": "aLg7I5UPHiea"
   },
   "outputs": [],
   "source": [
    "X = users[['birth_year', 'city', 'created_date', 'user_settings_crypto_unlocked',\n",
    "        'num_contacts', 'North-East', 'UK', 'West-South', 'brand',\n",
    "       'number_of_transactions', 'completed_transactions',\n",
    "       'Perc_comp_transactions', 'transactions_last_15_days',\n",
    "       'transactions_april_2019', 'transactions_Jan_Feb_Mar_2019',\n",
    "       'total_amount_usd', 'total_amount_usd_completed', 'Perc_compl_amount',\n",
    "       'max_amount_usd_completed', 'min_amount_usd_completed',\n",
    "       'mean_amount_usd_completed', 'EMAIL', 'PUSH', 'SMS', 'PUSH_sent',\n",
    "       'EMAIL_sent', 'SMS_sent']]"
   ]
  },
  {
   "cell_type": "code",
   "execution_count": 5,
   "metadata": {
    "colab": {},
    "colab_type": "code",
    "id": "AKTQh-RLHzoH"
   },
   "outputs": [],
   "source": [
    "y = users['plan']"
   ]
  },
  {
   "cell_type": "markdown",
   "metadata": {
    "colab_type": "text",
    "id": "3sEQOawcH1pe"
   },
   "source": [
    "# 3.2 Recursive Feature elimination"
   ]
  },
  {
   "cell_type": "code",
   "execution_count": 6,
   "metadata": {
    "colab": {},
    "colab_type": "code",
    "id": "mhLxyJrkH_uF"
   },
   "outputs": [],
   "source": [
    "from sklearn.model_selection import train_test_split\n",
    "\n",
    "X_train, X_test, y_train, y_test = train_test_split(X, y, test_size=0.2)"
   ]
  },
  {
   "cell_type": "code",
   "execution_count": 7,
   "metadata": {
    "colab": {
     "base_uri": "https://localhost:8080/",
     "height": 35
    },
    "colab_type": "code",
    "id": "5J_rgoY5IBYH",
    "outputId": "5334128d-fe9b-430e-a2e1-695aa05affd4"
   },
   "outputs": [
    {
     "data": {
      "text/plain": [
       "((12435, 27), (3109, 27), (12435,), (3109,))"
      ]
     },
     "execution_count": 7,
     "metadata": {},
     "output_type": "execute_result"
    }
   ],
   "source": [
    "X_train.shape, X_test.shape, y_train.shape, y_test.shape"
   ]
  },
  {
   "cell_type": "code",
   "execution_count": 8,
   "metadata": {
    "colab": {},
    "colab_type": "code",
    "id": "AZDhdOcNIDBP"
   },
   "outputs": [],
   "source": [
    "from sklearn.preprocessing import StandardScaler\n",
    "\n",
    "sc = StandardScaler()\n",
    "\n",
    "X_train = sc.fit_transform(X_train)\n",
    "X_test = sc.transform(X_test)"
   ]
  },
  {
   "cell_type": "code",
   "execution_count": 9,
   "metadata": {
    "colab": {
     "base_uri": "https://localhost:8080/",
     "height": 295
    },
    "colab_type": "code",
    "id": "_dqvVbkYIEg-",
    "outputId": "36dbaac8-5e59-427f-c202-fef280afe514"
   },
   "outputs": [
    {
     "data": {
      "image/png": "[encoded data removed]",
      "text/plain": [
       "<Figure size 432x288 with 1 Axes>"
      ]
     },
     "metadata": {
      "needs_background": "light"
     },
     "output_type": "display_data"
    }
   ],
   "source": [
    "from sklearn.linear_model import LogisticRegression\n",
    "from sklearn.feature_selection import RFECV\n",
    "import warnings\n",
    "\n",
    "warnings.filterwarnings('ignore')\n",
    "\n",
    "clf = LogisticRegression(solver='lbfgs', multi_class='auto')\n",
    "\n",
    "rfecv = RFECV(estimator=clf, cv=5, scoring='f1')  \n",
    "rfecv.fit(X_train, y_train)\n",
    "\n",
    "#                                                PLOTTING:\n",
    "#                              --------------------------------------------\n",
    "\n",
    "ax = plt.subplot(111)\n",
    "ax.plot(range(1, len(rfecv.grid_scores_) + 1), rfecv.grid_scores_)\n",
    "\n",
    "ax.set_title('Performance per number of features selected')\n",
    "ax.set_xlabel('features selected')\n",
    "ax.set_ylabel('f1-score')\n",
    "\n",
    "ax.spines['top'].set_visible(False)\n",
    "ax.spines['right'].set_visible(False)"
   ]
  },
  {
   "cell_type": "code",
   "execution_count": 10,
   "metadata": {
    "colab": {
     "base_uri": "https://localhost:8080/",
     "height": 72
    },
    "colab_type": "code",
    "id": "uDQmaNt0IGYK",
    "outputId": "4cf3143d-f220-4dec-d726-3899d8597fdc"
   },
   "outputs": [
    {
     "data": {
      "text/plain": [
       "array([ True, False, False,  True, False, False, False,  True,  True,\n",
       "        True,  True,  True,  True,  True,  True, False,  True, False,\n",
       "        True,  True, False,  True,  True, False,  True,  True, False])"
      ]
     },
     "execution_count": 10,
     "metadata": {},
     "output_type": "execute_result"
    }
   ],
   "source": [
    "rfecv.support_"
   ]
  },
  {
   "cell_type": "code",
   "execution_count": 11,
   "metadata": {
    "colab": {
     "base_uri": "https://localhost:8080/",
     "height": 127
    },
    "colab_type": "code",
    "id": "_kIinqNWIIWc",
    "outputId": "3e83ff84-35d5-48fa-b7c7-e4997f837521"
   },
   "outputs": [
    {
     "data": {
      "text/plain": [
       "array([0.16907471, 0.17813465, 0.24843098, 0.28699455, 0.29996907,\n",
       "       0.31559482, 0.33179256, 0.34816301, 0.3564944 , 0.37530839,\n",
       "       0.37831717, 0.37971212, 0.37936976, 0.37868976, 0.3852509 ,\n",
       "       0.38739227, 0.38905121, 0.38622879, 0.38358217, 0.38239619,\n",
       "       0.38657846, 0.38657846, 0.38790112, 0.38770404, 0.38823665,\n",
       "       0.38764227, 0.38764227])"
      ]
     },
     "execution_count": 11,
     "metadata": {},
     "output_type": "execute_result"
    }
   ],
   "source": [
    "rfecv.grid_scores_"
   ]
  },
  {
   "cell_type": "markdown",
   "metadata": {
    "colab_type": "text",
    "id": "hMXsifL2IL2c"
   },
   "source": [
    "## 3.3 Machine Learning Model"
   ]
  },
  {
   "cell_type": "code",
   "execution_count": 14,
   "metadata": {
    "colab": {},
    "colab_type": "code",
    "id": "K0J8pnH3IQJW"
   },
   "outputs": [],
   "source": [
    "from sklearn.preprocessing import StandardScaler\n",
    "from sklearn.neural_network import MLPClassifier\n",
    "from sklearn.model_selection import GridSearchCV\n",
    "from sklearn.metrics import f1_score \n",
    "from sklearn.metrics import accuracy_score, classification_report\n",
    "from imblearn.under_sampling import RandomUnderSampler\n",
    "from sklearn.neural_network import MLPClassifier"
   ]
  },
  {
   "cell_type": "code",
   "execution_count": 15,
   "metadata": {
    "colab": {
     "base_uri": "https://localhost:8080/",
     "height": 531
    },
    "colab_type": "code",
    "id": "28Q4uDL_IR6y",
    "outputId": "ca7fc7ad-f8a5-42c2-d356-9f0e1d6082fe"
   },
   "outputs": [
    {
     "data": {
      "text/plain": [
       "GridSearchCV(cv=5,\n",
       "             estimator=Pipeline(steps=[('scaler', StandardScaler()),\n",
       "                                       ('sampler', RandomUnderSampler()),\n",
       "                                       ('classifier', MLPClassifier())]),\n",
       "             param_grid={'classifier__activation': ['logistic', 'relu'],\n",
       "                         'classifier__batch_size': [200, 250, 300],\n",
       "                         'classifier__hidden_layer_sizes': [(10,), (20,), 30,\n",
       "                                                            (50,), (30, 10),\n",
       "                                                            (50, 20), (50, 10),\n",
       "                                                            (50, 30)],\n",
       "                         'classifier__learning_rate_init': [0.01, 0.002]},\n",
       "             scoring='f1')"
      ]
     },
     "execution_count": 15,
     "metadata": {},
     "output_type": "execute_result"
    }
   ],
   "source": [
    "from imblearn.pipeline import Pipeline\n",
    "\n",
    "sc = StandardScaler()  \n",
    "rus = RandomUnderSampler()  \n",
    "knn = MLPClassifier()\n",
    "\n",
    "pipe = Pipeline([('scaler',sc),('sampler',rus),('classifier',knn)])\n",
    "\n",
    "grid = {'classifier__hidden_layer_sizes' : [ (10,),(20,),(30), (50,),(30,10), (50, 20), (50, 10), (50, 30)],\n",
    "        'classifier__batch_size' : [200,250,300],\n",
    "        'classifier__activation' : ['logistic', 'relu'],\n",
    "        'classifier__learning_rate_init' : [0.01, 0.002]}\n",
    "\n",
    "gs = GridSearchCV(pipe, grid, cv=5, scoring='f1')\n",
    "gs.fit(X_train,y_train)"
   ]
  },
  {
   "cell_type": "code",
   "execution_count": 16,
   "metadata": {
    "colab": {
     "base_uri": "https://localhost:8080/",
     "height": 90
    },
    "colab_type": "code",
    "id": "c-b39CEtIUO5",
    "outputId": "7a69e530-4c46-4542-f220-207f4d255d22"
   },
   "outputs": [
    {
     "data": {
      "text/plain": [
       "{'classifier__activation': 'logistic',\n",
       " 'classifier__batch_size': 250,\n",
       " 'classifier__hidden_layer_sizes': (50, 30),\n",
       " 'classifier__learning_rate_init': 0.002}"
      ]
     },
     "execution_count": 16,
     "metadata": {},
     "output_type": "execute_result"
    }
   ],
   "source": [
    "gs.best_params_"
   ]
  },
  {
   "cell_type": "code",
   "execution_count": 17,
   "metadata": {
    "colab": {
     "base_uri": "https://localhost:8080/",
     "height": 35
    },
    "colab_type": "code",
    "id": "JH79OM8iIVy4",
    "outputId": "2ddc3f32-5d63-4781-ba6f-dec6459d2947"
   },
   "outputs": [
    {
     "data": {
      "text/plain": [
       "0.3782654127481714"
      ]
     },
     "execution_count": 17,
     "metadata": {},
     "output_type": "execute_result"
    }
   ],
   "source": [
    "preds = gs.predict(X_test)    \n",
    "f1_score(y_test,preds)"
   ]
  },
  {
   "cell_type": "code",
   "execution_count": 18,
   "metadata": {
    "colab": {
     "base_uri": "https://localhost:8080/",
     "height": 219
    },
    "colab_type": "code",
    "id": "HgyqA_FJIXL9",
    "outputId": "446da04c-9c0b-4e32-b9c3-6f5ee242a102"
   },
   "outputs": [
    {
     "name": "stdout",
     "output_type": "stream",
     "text": [
      "0.8086201350916693\n",
      "-----------------------------\n",
      "              precision    recall  f1-score   support\n",
      "\n",
      "           0       0.98      0.81      0.89      2889\n",
      "           1       0.25      0.82      0.38       220\n",
      "\n",
      "    accuracy                           0.81      3109\n",
      "   macro avg       0.61      0.82      0.63      3109\n",
      "weighted avg       0.93      0.81      0.85      3109\n",
      "\n"
     ]
    }
   ],
   "source": [
    "print(accuracy_score(y_test,preds))\n",
    "print('-----------------------------')\n",
    "print(classification_report(y_test,preds))"
   ]
  }
 ],
 "metadata": {
  "colab": {
   "collapsed_sections": [],
   "name": "Final Project.ipynb",
   "provenance": []
  },
  "kernelspec": {
   "display_name": "Python 3",
   "language": "python",
   "name": "python3"
  },
  "language_info": {
   "codemirror_mode": {
    "name": "ipython",
    "version": 3
   },
   "file_extension": ".py",
   "mimetype": "text/x-python",
   "name": "python",
   "nbconvert_exporter": "python",
   "pygments_lexer": "ipython3",
   "version": "3.7.7"
  }
 },
 "nbformat": 4,
 "nbformat_minor": 1
}
